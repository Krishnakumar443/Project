{
 "cells": [
  {
   "cell_type": "markdown",
   "id": "e711a0a7-8b15-49ec-aad7-69613737cafa",
   "metadata": {},
   "source": [
    "# Data Science Tools and Ecosystem\n"
   ]
  },
  {
   "cell_type": "markdown",
   "id": "c098a631-45a6-4dfe-a8b7-1285ef4072f2",
   "metadata": {},
   "source": [
    "In this notebook, Data Science Tools and Ecosystem are summarized.\n",
    "\n",
    "**Objectives:**\n",
    "* Python\n",
    "* R\n",
    "* Jupyter Notebook\n",
    "* Jupyter Lab\n",
    "* Github"
   ]
  },
  {
   "cell_type": "code",
   "execution_count": null,
   "id": "9f910c32-3a4c-4604-aa1d-799043ac84cd",
   "metadata": {},
   "outputs": [],
   "source": []
  },
  {
   "cell_type": "markdown",
   "id": "d27df5d3-1405-4bcc-9ad9-021342b9d065",
   "metadata": {},
   "source": [
    "Some of the popular languages that Data Scientists use are:\n",
    "1. Python\n",
    "2. R\n",
    "3. Java\n",
    "4. SQ"
   ]
  },
  {
   "cell_type": "markdown",
   "id": "183b24cf-f9d5-432c-a362-7caad1aa979a",
   "metadata": {},
   "source": [
    "Some of the commonly used libraries used by Data Scientists include:\n",
    "1. Pandas\n",
    "2. NumPy\n",
    "3. Matplotlib"
   ]
  },
  {
   "cell_type": "markdown",
   "id": "0b3c5087-775b-4493-aac6-c11526809d7c",
   "metadata": {},
   "source": [
    "| Data Science Tools |\n",
    "|--------------------|\n",
    "|  Jupyter Notebooks  |\n",
    "| Jupyter Lab |\n",
    "| Appache Zeppelin |\n"
   ]
  },
  {
   "cell_type": "markdown",
   "id": "6e8278c7-134f-46cf-ac85-a842e6277a5e",
   "metadata": {},
   "source": [
    "### Below are a few examples of evaluating arithmetic expressions in Python"
   ]
  },
  {
   "cell_type": "markdown",
   "id": "e3c68888-2851-49ea-b9f5-2f38fed49849",
   "metadata": {},
   "source": [
    "This a simple arithmetic expression to mutiply then add integers\n"
   ]
  },
  {
   "cell_type": "code",
   "execution_count": 1,
   "id": "308d24f7-9ffa-4ca3-b862-854086556d01",
   "metadata": {
    "tags": []
   },
   "outputs": [
    {
     "name": "stdout",
     "output_type": "stream",
     "text": [
      "17\n"
     ]
    }
   ],
   "source": [
    "print((3*4)+5)\n"
   ]
  },
  {
   "cell_type": "markdown",
   "id": "2e79c80f-a711-4f0a-85ba-4de188b99b60",
   "metadata": {},
   "source": [
    "This will convert 200 minutes to hours by diving by 60"
   ]
  },
  {
   "cell_type": "code",
   "execution_count": 2,
   "id": "a08d078a-a53e-4959-a007-7f6cba37f61f",
   "metadata": {
    "tags": []
   },
   "outputs": [
    {
     "name": "stdout",
     "output_type": "stream",
     "text": [
      "3.3333333333333335\n"
     ]
    }
   ],
   "source": [
    "print(200/60)\n"
   ]
  },
  {
   "cell_type": "markdown",
   "id": "b4ff1776-383b-4209-97ca-495373278bd8",
   "metadata": {},
   "source": [
    "## Author\n",
    "\n",
    "Krishnakumar Kizhakkuveettil"
   ]
  },
  {
   "cell_type": "code",
   "execution_count": null,
   "id": "c9a7ff72-947f-4cae-856c-d13ad28ea405",
   "metadata": {},
   "outputs": [],
   "source": []
  }
 ],
 "metadata": {
  "kernelspec": {
   "display_name": "Python",
   "language": "python",
   "name": "conda-env-python-py"
  },
  "language_info": {
   "codemirror_mode": {
    "name": "ipython",
    "version": 3
   },
   "file_extension": ".py",
   "mimetype": "text/x-python",
   "name": "python",
   "nbconvert_exporter": "python",
   "pygments_lexer": "ipython3",
   "version": "3.7.12"
  }
 },
 "nbformat": 4,
 "nbformat_minor": 5
}
